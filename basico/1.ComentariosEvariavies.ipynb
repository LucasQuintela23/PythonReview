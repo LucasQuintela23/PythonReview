{
 "cells": [
  {
   "cell_type": "code",
   "execution_count": null,
   "metadata": {},
   "outputs": [],
   "source": [
    "# Este sinal serve para comentar um codigo para que o usuário saiba o que faz\n",
    "\n",
    "\"\"\"\n",
    "Usando 3 aspas podemos\n",
    "comentar varias linhas\n",
    "\"\"\"\n",
    "\n",
    "print(\"Script executado com sucesso\")"
   ]
  },
  {
   "cell_type": "code",
   "execution_count": null,
   "metadata": {},
   "outputs": [],
   "source": [
    "\"\"\"\n",
    "Uma variável em programação é como uma \"caixa\" que guarda informações que podem ser usadas e manipuladas durante a execução de um programa. \n",
    "Pense nela como um rótulo que associa um nome a um pedaço de memória onde um valor é armazenado.\n",
    "\n",
    "Características principais de uma variável:\n",
    "Nome: O nome da variável é usado para identificá-la no programa. Deve ser único no contexto em que é usado e \n",
    "seguir as regras da linguagem de programação.\n",
    "\n",
    "Exemplo: idade, nome_do_usuario, resultado.\n",
    "Valor: O conteúdo armazenado na variável. Esse valor pode ser alterado durante a execução do programa.\n",
    "\n",
    "Exemplo: 25, \"João\", ou 3.14.\n",
    "Tipo de dado (dependendo da linguagem de programação): Variáveis podem ter um tipo específico que define que tipo de dados ela pode armazenar,\n",
    "como números, texto, ou valores booleanos.\n",
    "\n",
    "Exemplos de tipos:\n",
    "Números inteiros (ex.: 10)\n",
    "Números decimais (ex.: 3.14)\n",
    "Texto (strings) (ex.: \"Olá, mundo!\")\n",
    "Booleanos (ex.: True ou False)\n",
    "\n",
    "\"\"\"\n",
    "\n",
    "# Criando variáveis\n",
    "idade = 25          # Inteiro\n",
    "nome = \"Maria\"      # String (texto)\n",
    "altura = 1.65       # Float (decimal)\n",
    "estudante = True    # Booleano\n",
    "\n",
    "# Usando as variáveis\n",
    "print(f\"{nome} tem {idade} anos e {altura}m de altura.\")  # Maria tem 25 anos e 1.65m de altura.\n"
   ]
  },
  {
   "cell_type": "code",
   "execution_count": null,
   "metadata": {},
   "outputs": [],
   "source": [
    "\"\"\"\n",
    "Tipos de dados\n",
    "\"\"\"\n",
    "#inteiros(int): números reais, que têm uma part decimal\n",
    "inteiro = 42\n",
    "print(\"inteiro: \", inteiro)\n",
    "\n",
    "#Ponto flutuante(float): números reais, que têm uma parte decimal.\n",
    "flutuante = 42.0\n",
    "print(\"flutuante: \", flutuante)\n",
    "\n",
    "#Complexos (complex): Numeros complexo, que possuem uma parte real ou imaginária.\n",
    "complexo = 3 + 4j\n",
    "print(\"Complexo: \", complexo)\n",
    "\n",
    "#Strings(str): Sequência de caracteres.\n",
    "texto = \"Olá, mundo!\"\n",
    "print(\"Texto\", texto)\n",
    "\n",
    "#Listas(list): uma coleção ordenada e mutável\n",
    "lista = [1, 2, 3]\n",
    "print(\"Lista: \", lista)\n",
    "\n",
    "#Tuplas (tuple): Uma coleção ordenada e imutável\n",
    "tuplas = (1, 2, 3, 4, 5)\n",
    "print(\"tuplas: \", tuplas)\n",
    "\n",
    "#Conjuntos(set): uma soleção não ordenada de intens únicos.\n",
    "conjunto = {1, 2, 3, 3}\n",
    "print(\"Conjuntos:\", conjunto)\n",
    "\n",
    "\n",
    "#Dicionários (dic): coleção não ordenada de pares chaves-valor.\n",
    "dicionario = {\"chave\":\"valor\"}\n",
    "print(\"Dicionario\", dicionario)\n",
    "\n",
    "#Booleano (bool): valores verdadeiro ou falso.\n",
    "booleano = True\n",
    "print(\"Booleano:\", booleano)\n",
    "\n",
    "#NoneType (None): um tipo especial que representa a ausência de valor\n",
    "nenhum = None\n",
    "print(\"NoneType(None):\", nenhum)"
   ]
  },
  {
   "cell_type": "code",
   "execution_count": null,
   "metadata": {},
   "outputs": [],
   "source": []
  }
 ],
 "metadata": {
  "kernelspec": {
   "display_name": ".venv",
   "language": "python",
   "name": "python3"
  },
  "language_info": {
   "codemirror_mode": {
    "name": "ipython",
    "version": 3
   },
   "file_extension": ".py",
   "mimetype": "text/x-python",
   "name": "python",
   "nbconvert_exporter": "python",
   "pygments_lexer": "ipython3",
   "version": "3.8.2"
  }
 },
 "nbformat": 4,
 "nbformat_minor": 2
}
