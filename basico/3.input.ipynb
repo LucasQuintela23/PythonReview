{
 "cells": [
  {
   "cell_type": "code",
   "execution_count": 2,
   "metadata": {},
   "outputs": [
    {
     "name": "stdout",
     "output_type": "stream",
     "text": [
      "\n",
      " seu nome é :Lucas Quintela\n"
     ]
    }
   ],
   "source": [
    "nome = input(\"Digite o seu nome: \\n\")\n",
    "print(\"\\n seu nome é :\" + nome)"
   ]
  },
  {
   "cell_type": "code",
   "execution_count": 6,
   "metadata": {},
   "outputs": [
    {
     "name": "stdout",
     "output_type": "stream",
     "text": [
      "10  * 1 =  10\n",
      "10  * 2 =  20\n",
      "10  * 3 =  30\n",
      "10  * 4 =  40\n",
      "10  * 5 =  50\n",
      "10  * 6 =  60\n",
      "10  * 7 =  70\n",
      "10  * 8 =  80\n",
      "10  * 9 =  90\n",
      "10  * 10 =  100\n"
     ]
    }
   ],
   "source": [
    "# Contruindo uma tabuada\n",
    "\n",
    "n = int(input(\"Digite um numuro inteiro de 1 a 10: \\n\"))\n",
    "\n",
    "print(n, \" * 1 = \", n * 1)\n",
    "print(n, \" * 2 = \", n * 2)\n",
    "print(n, \" * 3 = \", n * 3)\n",
    "print(n, \" * 4 = \", n * 4)\n",
    "print(n, \" * 5 = \", n * 5)\n",
    "print(n, \" * 6 = \", n * 6)\n",
    "print(n, \" * 7 = \", n * 7)\n",
    "print(n, \" * 8 = \", n * 8)\n",
    "print(n, \" * 9 = \", n * 9)\n",
    "print(n, \" * 10 = \", n * 10)\n"
   ]
  },
  {
   "cell_type": "code",
   "execution_count": 7,
   "metadata": {},
   "outputs": [
    {
     "name": "stdout",
     "output_type": "stream",
     "text": [
      " idade:  28\n"
     ]
    }
   ],
   "source": [
    "\"\"\"\n",
    "Crie um algoritmo que solicite o ano de nascimento do usuário e co base no ano imprima idade\n",
    "\"\"\"\n",
    "\n",
    "ano_nascimento = int(input(\"Digiti o seu ano de nascimento(ex:1997): \"))\n",
    "ano_atual = 2025\n",
    "\n",
    "idade = ano_atual - ano_nascimento\n",
    "\n",
    "print(\" idade: \", idade)"
   ]
  },
  {
   "cell_type": "code",
   "execution_count": 9,
   "metadata": {},
   "outputs": [
    {
     "name": "stdout",
     "output_type": "stream",
     "text": [
      "Você digitou o número 10.\n"
     ]
    }
   ],
   "source": [
    "#Verificando e manipulando a entrada do usuário#\n",
    "\"\"\"\n",
    "Para garantir que o usuário insira um valor válido, \n",
    "você pode usar estruturas como try/except ou condições (if).\n",
    "\"\"\"\n",
    "\n",
    "try:\n",
    "    numero = int(input(\"Digite um número inteiro: \"))\n",
    "    print(f\"Você digitou o número {numero}.\")\n",
    "except ValueError:\n",
    "    print(\"Por favor, insira um número inteiro válido.\")\n"
   ]
  }
 ],
 "metadata": {
  "kernelspec": {
   "display_name": ".venv",
   "language": "python",
   "name": "python3"
  },
  "language_info": {
   "codemirror_mode": {
    "name": "ipython",
    "version": 3
   },
   "file_extension": ".py",
   "mimetype": "text/x-python",
   "name": "python",
   "nbconvert_exporter": "python",
   "pygments_lexer": "ipython3",
   "version": "3.8.2"
  }
 },
 "nbformat": 4,
 "nbformat_minor": 2
}
