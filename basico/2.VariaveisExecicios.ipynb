{
 "cells": [
  {
   "cell_type": "code",
   "execution_count": null,
   "metadata": {},
   "outputs": [],
   "source": [
    "\"\"\"\n",
    "Em Python, o type é uma função incorporada usada para verificar o tipo de dado de um objeto ou criar novos tipos dinamicamente. \n",
    "Ele é amplamente utilizado para depuração, introspecção e manipulação de classes e objetos.\n",
    "\"\"\"\n",
    "# Verificando tipos básicos\n",
    "print(type(10))          # <class 'int'>\n",
    "print(type(3.14))        # <class 'float'>\n",
    "print(type(\"Olá\"))       # <class 'str'>\n",
    "print(type([1, 2, 3]))   # <class 'list'>\n",
    "print(type({\"a\": 1}))    # <class 'dict'>\n",
    "print(type(True))        # <class 'bool'>\n"
   ]
  },
  {
   "cell_type": "code",
   "execution_count": null,
   "metadata": {},
   "outputs": [],
   "source": [
    "# Convertendo o tipo de dados\n",
    "#observação: a variavel idade originalmente o deu tipo de dados e int,\n",
    "# ao adicionar o 'str'antes dos '()' o seu tipo sera alterado, essa operação e chamada de 'cast'.\n",
    "\n",
    "nome = str(\"Ana Paula\")\n",
    "idade = str(21)\n",
    "\n",
    "print(type(nome))\n",
    "print(type(idade))"
   ]
  },
  {
   "cell_type": "code",
   "execution_count": null,
   "metadata": {},
   "outputs": [],
   "source": [
    "# Atribuindo valores a váriaveis em uma só linha.\n",
    "\n",
    "var1, var2, var3, var4 = \"texto1\",\"texto2\",\"texto3\",\"texto4\",\n",
    "\n",
    "print(var1)\n",
    "print(var2)\n",
    "print(var3)\n",
    "print(var4)"
   ]
  },
  {
   "cell_type": "code",
   "execution_count": null,
   "metadata": {},
   "outputs": [],
   "source": [
    "# Atribuindo o mesmo valor a váriveis em uma unica linha\n",
    "\n",
    "var1 = var2 = var3 = var4 = \"texto1\"\n",
    "\n",
    "print(var1)\n",
    "print(var2)\n",
    "print(var3)\n",
    "print(var4)"
   ]
  },
  {
   "cell_type": "code",
   "execution_count": null,
   "metadata": {},
   "outputs": [],
   "source": [
    "# Se ouver um coleção de valores em uma lista, podemos extrair em váriaveis, Isso e chamado de descompactar\n",
    "\n",
    "exemplo = \"texto1\",\"texto2\",\"texto3\",\"texto4\"\n",
    "var1, var2, var3, var4 = exemplo\n",
    "\n",
    "print(var1)\n",
    "print(var2)\n",
    "print(var3)\n",
    "print(var4)"
   ]
  },
  {
   "cell_type": "code",
   "execution_count": null,
   "metadata": {},
   "outputs": [],
   "source": [
    "# Concatenação\n",
    "\n",
    "nome = \"Vitoria\"\n",
    "\n",
    "print(\"O nome dela é\" + nome)"
   ]
  },
  {
   "cell_type": "code",
   "execution_count": null,
   "metadata": {},
   "outputs": [],
   "source": [
    "# 1. Crie uma variável chamada nome e atribua o seu nome a ela como um valor.\n",
    "\n",
    "nome = 10\n",
    "\n",
    "\n",
    "# 2. Crie duas variáveis chamadas idade e ano_atual. \n",
    "\n",
    "idade = 1997\n",
    "ano_atual = 2025\n",
    "\n",
    "\n",
    "# 3. Calcule o ano em que você nasceu.\n",
    "\n",
    "idade_atual = ano_atual - idade\n",
    "\n",
    "\n",
    "# 4. Incremente a variável idade em 1.\n",
    "\n",
    "incremento = idade + 1\n",
    "\n",
    "\n",
    "# 5. Imprima as mensagens.\n",
    "print(nome)\n",
    "print(incremento)\n",
    "print(idade_atual)"
   ]
  },
  {
   "cell_type": "code",
   "execution_count": 14,
   "metadata": {},
   "outputs": [
    {
     "name": "stdout",
     "output_type": "stream",
     "text": [
      "A média é: 7.57\n"
     ]
    }
   ],
   "source": [
    "# Exercício de Variáveis em Python\n",
    "\n",
    "# 1. Crie uma variável chamada \"nota1\" e atribua o valor 7.5 a ela.\n",
    "nota1 = 7.5\n",
    "\n",
    "# 2. Crie uma variável chamada \"nota2\" e atribua o valor 8.3 a ela.\n",
    "nota2 = 8.3\n",
    "\n",
    "# 3. Crie uma variável chamada \"nota3\" e atribua o valor 6.9 a ela.\n",
    "nota3 = 6.9\n",
    "\n",
    "# 4. Calcule a média das três notas e atribua o resultado a uma variável chamada \"media\".\n",
    "media = (nota1 + nota2 + nota3) / 3\n",
    "\n",
    "# 5. Imprima na tela o valor da variável \"media\" formatado com duas casas decimais.\n",
    "print(\"A média é:\", format(media, \".2f\"))\n"
   ]
  },
  {
   "cell_type": "code",
   "execution_count": null,
   "metadata": {},
   "outputs": [],
   "source": []
  }
 ],
 "metadata": {
  "kernelspec": {
   "display_name": ".venv",
   "language": "python",
   "name": "python3"
  },
  "language_info": {
   "codemirror_mode": {
    "name": "ipython",
    "version": 3
   },
   "file_extension": ".py",
   "mimetype": "text/x-python",
   "name": "python",
   "nbconvert_exporter": "python",
   "pygments_lexer": "ipython3",
   "version": "3.8.2"
  }
 },
 "nbformat": 4,
 "nbformat_minor": 2
}
